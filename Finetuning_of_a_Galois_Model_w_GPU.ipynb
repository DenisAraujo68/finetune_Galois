{
  "nbformat": 4,
  "nbformat_minor": 0,
  "metadata": {
    "colab": {
      "name": "Finetuning of a Galois Model w/ GPU",
      "provenance": [],
      "collapsed_sections": [],
      "include_colab_link": true
    },
    "kernelspec": {
      "name": "python3",
      "display_name": "Python 3"
    },
    "accelerator": "GPU"
  },
  "cells": [
    {
      "cell_type": "markdown",
      "metadata": {
        "id": "view-in-github",
        "colab_type": "text"
      },
      "source": [
        "<a href=\"https://colab.research.google.com/github/DenisAraujo68/finetune_Galois/blob/master/Finetuning_of_a_Galois_Model_w_GPU.ipynb\" target=\"_parent\"><img src=\"https://colab.research.google.com/assets/colab-badge.svg\" alt=\"Open In Colab\"/></a>"
      ]
    },
    {
      "cell_type": "markdown",
      "metadata": {
        "id": "H7LoMj4GA4n_",
        "colab_type": "text"
      },
      "source": [
        "#  Finetuning a Galois model w/ GPU For Free \n",
        "derived from [Max Wolf](http://minimaxir.com/)'s work\n",
        "by [Denis Araujo](https://www.linkedin.com/in/denisandreiaraujo/)\n",
        "\n",
        "*Last updated: Mar 31th, 2020*\n",
        "\n",
        "Retrain the Galois' GPT-2 model on any source code dataset **for free on a GPU using Collaboratory** using `gpt-2-simple`!\n",
        "\n",
        "For more about `gpt-2-simple`, you can visit [this GitHub repository](https://github.com/minimaxir/gpt-2-simple).\n",
        "\n",
        "\n",
        "To get started:\n",
        "\n",
        "1. Copy this notebook to your Google Drive to keep it and save your changes. (File -> Save a Copy in Drive)\n",
        "2. Make sure you're running the notebook in Google Chrome.\n",
        "3. Run the cells below:\n"
      ]
    },
    {
      "cell_type": "code",
      "metadata": {
        "id": "KBkpRgBCBS2_",
        "colab_type": "code",
        "outputId": "53464c1f-6d24-4b92-86e3-9cfd6e7f5554",
        "colab": {
          "base_uri": "https://localhost:8080/",
          "height": 85
        }
      },
      "source": [
        "# Uninstalling because Colab's default version is Tensorflow 2\n",
        "#!pip uninstall -qy tensorflow\n",
        "#!pip uninstall -qy tensorflow_estimator\n",
        "# Installing the Tensorflow version gpt-2-simple wants\n",
        "#!pip install -q tensorflow==1.14.0\n",
        "#!pip install -q tensorflow_estimator\n",
        "!pip install -q gpt-2-simple"
      ],
      "execution_count": 0,
      "outputs": [
        {
          "output_type": "stream",
          "text": [
            "\u001b[K     |████████████████████████████████| 109.2MB 98kB/s \n",
            "\u001b[K     |████████████████████████████████| 3.2MB 42.3MB/s \n",
            "\u001b[K     |████████████████████████████████| 491kB 79.0MB/s \n",
            "\u001b[?25h  Building wheel for gpt-2-simple (setup.py) ... \u001b[?25l\u001b[?25hdone\n"
          ],
          "name": "stdout"
        }
      ]
    },
    {
      "cell_type": "markdown",
      "metadata": {
        "id": "Bj2IJLHP3KwE",
        "colab_type": "text"
      },
      "source": [
        "## GPU\n",
        "\n",
        "Colaboratory now uses an Nvidia T4 GPU, which is slightly faster than the old Nvidia GPUs for training Galois on GPT-2, and has more memory allowing you to train the larger GPT-2 models.\n",
        "\n",
        "You can verify which GPU is active by running the cell below."
      ]
    },
    {
      "cell_type": "code",
      "metadata": {
        "id": "sUmTooTW3osf",
        "colab_type": "code",
        "outputId": "d1240c4c-c864-4980-dda8-2b0092993f7c",
        "colab": {
          "base_uri": "https://localhost:8080/",
          "height": 306
        }
      },
      "source": [
        "!nvidia-smi"
      ],
      "execution_count": 0,
      "outputs": [
        {
          "output_type": "stream",
          "text": [
            "Thu Apr  2 13:25:16 2020       \n",
            "+-----------------------------------------------------------------------------+\n",
            "| NVIDIA-SMI 440.64.00    Driver Version: 418.67       CUDA Version: 10.1     |\n",
            "|-------------------------------+----------------------+----------------------+\n",
            "| GPU  Name        Persistence-M| Bus-Id        Disp.A | Volatile Uncorr. ECC |\n",
            "| Fan  Temp  Perf  Pwr:Usage/Cap|         Memory-Usage | GPU-Util  Compute M. |\n",
            "|===============================+======================+======================|\n",
            "|   0  Tesla P100-PCIE...  Off  | 00000000:00:04.0 Off |                    0 |\n",
            "| N/A   33C    P0    26W / 250W |      0MiB / 16280MiB |      0%      Default |\n",
            "+-------------------------------+----------------------+----------------------+\n",
            "                                                                               \n",
            "+-----------------------------------------------------------------------------+\n",
            "| Processes:                                                       GPU Memory |\n",
            "|  GPU       PID   Type   Process name                             Usage      |\n",
            "|=============================================================================|\n",
            "|  No running processes found                                                 |\n",
            "+-----------------------------------------------------------------------------+\n"
          ],
          "name": "stdout"
        }
      ]
    },
    {
      "cell_type": "markdown",
      "metadata": {
        "id": "0wXB05bPDYxS",
        "colab_type": "text"
      },
      "source": [
        "## Downloading Galois model\n",
        "\n",
        "If you're finening the Galois on new source codes, you need to download its model first. \n",
        "\n",
        "The next cell downloads Galois model from Github and saves it in the Colaboratory VM at `/models/model`.\n",
        "\n",
        "This model isn't permanently saved in the Colaboratory VM; you'll have to redownload it if you want to retrain it at a later time."
      ]
    },
    {
      "cell_type": "code",
      "metadata": {
        "id": "P8wSlgXoDPCR",
        "colab_type": "code",
        "outputId": "d9c612f5-6b85-4b14-c8f0-fb9f4b23cd6a",
        "colab": {
          "base_uri": "https://localhost:8080/",
          "height": 119
        }
      },
      "source": [
        "!mkdir -p /opt/galois/models\n",
        "!curl -SL https://github.com/iedmrc/galois-autocompleter/releases/latest/download/model.tar.xz | tar -xJC /opt/galois/models"
      ],
      "execution_count": 0,
      "outputs": [
        {
          "output_type": "stream",
          "text": [
            "  % Total    % Received % Xferd  Average Speed   Time    Time     Time  Current\n",
            "                                 Dload  Upload   Total   Spent    Left  Speed\n",
            "\r  0     0    0     0    0     0      0      0 --:--:-- --:--:-- --:--:--     0\r  0     0    0     0    0     0      0      0 --:--:-- --:--:-- --:--:--     0\r100   164  100   164    0     0    625      0 --:--:-- --:--:-- --:--:--   623\n",
            "\r100   164  100   164    0     0    380      0 --:--:-- --:--:-- --:--:--   380\n",
            "100   603  100   603    0     0    957      0 --:--:-- --:--:-- --:--:--   957\n",
            "100 1245M  100 1245M    0     0  12.0M      0  0:01:43  0:01:43 --:--:-- 12.2M\n"
          ],
          "name": "stdout"
        }
      ]
    },
    {
      "cell_type": "code",
      "metadata": {
        "id": "V3mjW6_J4_m6",
        "colab_type": "code",
        "outputId": "b731c4ef-4c69-4dd2-e079-42c34b0ff2b9",
        "colab": {
          "base_uri": "https://localhost:8080/",
          "height": 187
        }
      },
      "source": [
        "!ls -al /opt/galois/models/model"
      ],
      "execution_count": 0,
      "outputs": [
        {
          "output_type": "stream",
          "text": [
            "total 1395420\n",
            "drwxr-xr-x 2  501 staff       4096 Aug  3  2019 .\n",
            "drwxr-xr-x 3 root root        4096 Apr  2 13:25 ..\n",
            "-rw-r--r-- 1  501 staff         67 Aug  3  2019 checkpoint\n",
            "-rw-r--r-- 1  501 staff    1042301 Aug  3  2019 encoder.json\n",
            "-rw-r--r-- 1  501 staff         91 Aug  3  2019 hparams.json\n",
            "-rw-r--r-- 1  501 staff 1419292672 Aug  3  2019 model.data-00000-of-00001\n",
            "-rw-r--r-- 1  501 staff      10399 Aug  3  2019 model.index\n",
            "-rw-r--r-- 1  501 staff    8078626 Aug  3  2019 model.meta\n",
            "-rw-r--r-- 1  501 staff     456318 Aug  3  2019 vocab.bpe\n"
          ],
          "name": "stdout"
        }
      ]
    },
    {
      "cell_type": "markdown",
      "metadata": {
        "id": "N8KXuKWzQSsN",
        "colab_type": "text"
      },
      "source": [
        "## Mounting Google Drive\n",
        "\n",
        "The best way to get input source code to-be-finetuned into the Colaboratory VM, and to get the trained model *out* of Colaboratory, is to route it through Google Drive *first*.\n",
        "\n",
        "Running this cell (which will only work in Colaboratory) will mount your personal Google Drive in the VM, which later cells can use to get data in/out. (it will ask for an auth code; that auth is not saved anywhere)"
      ]
    },
    {
      "cell_type": "code",
      "metadata": {
        "id": "pgYWh9xDDMji",
        "colab_type": "code",
        "outputId": "69305746-49b4-46b6-cfb5-bc88b2aaa850",
        "colab": {
          "base_uri": "https://localhost:8080/",
          "height": 34
        }
      },
      "source": [
        "from google.colab import drive\n",
        "drive.mount('/content/drive', force_remount=True)"
      ],
      "execution_count": 0,
      "outputs": [
        {
          "output_type": "stream",
          "text": [
            "Mounted at /content/drive\n"
          ],
          "name": "stdout"
        }
      ]
    },
    {
      "cell_type": "markdown",
      "metadata": {
        "id": "BT__brhBCvJu",
        "colab_type": "text"
      },
      "source": [
        "## Uploading a Text File to be Trained to Colaboratory\n",
        "\n",
        "In the Colaboratory Notebook sidebar on the left of the screen, select *Files*. From there you can upload files:\n",
        "\n",
        "![alt text](https://i.imgur.com/TGcZT4h.png)\n",
        "\n",
        "Upload **any smaller text file**  (<10 MB) and update the file name in the cell below, then run the cell."
      ]
    },
    {
      "cell_type": "code",
      "metadata": {
        "id": "6OFnPCLADfll",
        "colab_type": "code",
        "colab": {}
      },
      "source": [
        "file_name = \"/content/drive/My Drive/CWI/PeI/Galois/cwi-NT-assistente_virtual.txt\"\n",
        "checkpoint_dir = \"/content/drive/My Drive/CWI/PeI/Galois/checkpoint\""
      ],
      "execution_count": 0,
      "outputs": []
    },
    {
      "cell_type": "markdown",
      "metadata": {
        "id": "HeeSKtNWUedE",
        "colab_type": "text"
      },
      "source": [
        "If your text file is larger than 10MB, it is recommended to upload that file to Google Drive first, then copy that file from Google Drive to the Colaboratory VM."
      ]
    },
    {
      "cell_type": "markdown",
      "metadata": {
        "id": "LdpZQXknFNY3",
        "colab_type": "text"
      },
      "source": [
        "## Finetune Galois model\n",
        "\n",
        "The next cell will start the actual finetuning of Galois GPT-2 model. It creates a persistent TensorFlow session which stores the training config, then runs the training for the specified number of `steps`. (to have the finetuning run indefinitely, set `steps = -1`)\n",
        "\n",
        "The model checkpoints will be saved in `/checkpoint/run1` by default. The checkpoints are saved every 500 steps (can be changed) and when the cell is stopped.\n",
        "\n",
        "The training might time out after 4ish hours; make sure you end training and save the results so you don't lose them!\n",
        "\n",
        "**IMPORTANT NOTE:** If you want to rerun this cell, **restart the VM first** (Runtime -> Restart Runtime). You will need to rerun imports but not recopy files.\n",
        "\n",
        "Other optional-but-helpful parameters for `gpt2.finetune`:\n",
        "\n",
        "\n",
        "*  **`restore_from`**: Set to `fresh` to start training from the base GPT-2, or set to `latest` to restart training from an existing checkpoint.\n",
        "* **`sample_every`**: Number of steps to print example output\n",
        "* **`print_every`**: Number of steps to print training progress.\n",
        "* **`learning_rate`**:  Learning rate for the training. (default `1e-4`, can lower to `1e-5` if you have <1MB input data)\n",
        "*  **`run_name`**: subfolder within `checkpoint` to save the model. This is useful if you want to work with multiple models (will also need to specify  `run_name` when loading the model)\n",
        "* **`overwrite`**: Set to `True` if you want to continue finetuning an existing model (w/ `restore_from='latest'`) without creating duplicate copies. "
      ]
    },
    {
      "cell_type": "code",
      "metadata": {
        "colab_type": "code",
        "id": "-Ad__JEErPIe",
        "outputId": "13a6e92f-e5df-4231-b03f-c3a047124730",
        "colab": {
          "base_uri": "https://localhost:8080/",
          "height": 1000
        }
      },
      "source": [
        "%tensorflow_version 1.x\n",
        "import gpt_2_simple as gpt2\n",
        "\n",
        "sess = gpt2.start_tf_sess()\n",
        "\n",
        "gpt2.finetune(sess,\n",
        "              dataset=file_name,\n",
        "              model_dir='/opt/galois/models',\n",
        "              model_name='model',\n",
        "              checkpoint_dir=checkpoint_dir,\n",
        "              steps=-1,\n",
        "              learning_rate=0.00001,\n",
        "#               sgd=True,\n",
        "#               accumulate_gradients=10,\n",
        "              use_memory_saving_gradients=True,\n",
        "              restore_from='latest',\n",
        "#              run_name='run10',\n",
        "              print_every=10,\n",
        "              sample_every=100,\n",
        "              overwrite=True,\n",
        "              save_every=50\n",
        "              )"
      ],
      "execution_count": 0,
      "outputs": [
        {
          "output_type": "stream",
          "text": [
            "TensorFlow is already loaded. Please restart the runtime to change versions.\n",
            "WARNING:tensorflow:From /usr/local/lib/python3.6/dist-packages/gpt_2_simple/src/sample.py:17: add_dispatch_support.<locals>.wrapper (from tensorflow.python.ops.array_ops) is deprecated and will be removed in a future version.\n",
            "Instructions for updating:\n",
            "Use tf.where in 2.0, which has the same broadcast rule as np.where\n",
            "Loading checkpoint /content/drive/My Drive/CWI/PeI/Galois/checkpoint/run1/model-135\n",
            "WARNING:tensorflow:From /usr/local/lib/python3.6/dist-packages/tensorflow/python/training/saver.py:1276: checkpoint_exists (from tensorflow.python.training.checkpoint_management) is deprecated and will be removed in a future version.\n",
            "Instructions for updating:\n",
            "Use standard file APIs to check for files with this prefix.\n",
            "INFO:tensorflow:Restoring parameters from /content/drive/My Drive/CWI/PeI/Galois/checkpoint/run1/model-135\n"
          ],
          "name": "stdout"
        },
        {
          "output_type": "stream",
          "text": [
            "100%|██████████| 1/1 [00:00<00:00, 772.72it/s]"
          ],
          "name": "stderr"
        },
        {
          "output_type": "stream",
          "text": [
            "Loading dataset...\n",
            "dataset has 9191 tokens\n",
            "Training...\n",
            "Saving /content/drive/My Drive/CWI/PeI/Galois/checkpoint/run1/model-135\n"
          ],
          "name": "stdout"
        },
        {
          "output_type": "stream",
          "text": [
            "\n"
          ],
          "name": "stderr"
        },
        {
          "output_type": "stream",
          "text": [
            "[140 | 387.92] loss=0.10 avg=0.10\n",
            "[150 | 1105.76] loss=0.09 avg=0.09\n",
            "Saving /content/drive/My Drive/CWI/PeI/Galois/checkpoint/run1/model-150\n",
            "WARNING:tensorflow:From /usr/local/lib/python3.6/dist-packages/tensorflow/python/training/saver.py:960: remove_checkpoint (from tensorflow.python.training.checkpoint_management) is deprecated and will be removed in a future version.\n",
            "Instructions for updating:\n",
            "Use standard file APIs to delete files with this prefix.\n",
            "[160 | 1806.45] loss=0.25 avg=0.15\n",
            "[170 | 2516.08] loss=0.13 avg=0.14\n",
            "[180 | 3240.03] loss=0.13 avg=0.14\n",
            "[190 | 3963.58] loss=0.32 avg=0.17\n",
            "[200 | 4679.84] loss=0.04 avg=0.15\n",
            "Saving /content/drive/My Drive/CWI/PeI/Galois/checkpoint/run1/model-200\n",
            "======== SAMPLE 1 ========\n",
            "\n",
            "            description:\n",
            "                - The name of the storage account.\n",
            "            returned: always\n",
            "            type: str\n",
            "            sample: foo\n",
            "        description:\n",
            "            description:\n",
            "                - Virtual servers' description.\n",
            "            returned: always\n",
            "            type: str\n",
            "            sample: My Virtual Server\n",
            "        ip_protocols:\n",
            "            description:\n",
            "                - The names of the protocol that are supported by these servers.\n",
            "            returned: always\n",
            "            type: str\n",
            "            sample: tcp\n",
            "        port_range_lists:\n",
            "            description:\n",
            "                - The name of the ports that correspond to the given Virtual Server.\n",
            "            returned: always\n",
            "            type: complex\n",
            "            contains:\n",
            "                id:\n",
            "                    description:\n",
            "                         - Port range number.\n",
            "                    returned: always\n",
            "                    type: int\n",
            "                    sample: 592\n",
            "                port_range_start:\n",
            "                    description:\n",
            "                         - Start port number of the server.\n",
            "                    returned: always\n",
            "                    type: int\n",
            "                    sample: 18443\n",
            "                port_range_end:\n",
            "                    description:\n",
            "                         - End port number of the server.\n",
            "                    returned: always\n",
            "                    type: int\n",
            "                    sample: 5989ee6\n",
            "                port_range_start_min:\n",
            "                    description:\n",
            "                         - Start port number to which the server makes the request starts.\n",
            "                          This ranges from 17400 to 18500.\n",
            "                          (It starts at port 17400 after first access).\n",
            "                          For example, after first request, server starts at port is 19500.\n",
            "          \n",
            "\n",
            "[210 | 5628.79] loss=0.05 avg=0.14\n",
            "[220 | 6360.92] loss=0.16 avg=0.14\n"
          ],
          "name": "stdout"
        }
      ]
    },
    {
      "cell_type": "code",
      "metadata": {
        "id": "TbGcqSj0tcqr",
        "colab_type": "code",
        "outputId": "2b58b48e-bc15-41c0-b81c-31d0a168ef6a",
        "colab": {
          "base_uri": "https://localhost:8080/",
          "height": 136
        }
      },
      "source": [
        "!ls -al /opt"
      ],
      "execution_count": 0,
      "outputs": [
        {
          "output_type": "stream",
          "text": [
            "total 24\n",
            "drwxr-xr-x 1 root root 4096 Apr  2 13:25 .\n",
            "drwxr-xr-x 1 root root 4096 Apr  2 13:22 ..\n",
            "drwxr-xr-x 2 root root 4096 Mar 31 17:45 bin\n",
            "drwxr-xr-x 3 root root 4096 Apr  2 13:25 galois\n",
            "drwxr-xr-x 1 root root 4096 Mar 18 16:19 google\n",
            "drwxr-xr-x 4 root root 4096 Mar 18 16:17 nvidia\n"
          ],
          "name": "stdout"
        }
      ]
    },
    {
      "cell_type": "code",
      "metadata": {
        "id": "CmYAwuUzr7cb",
        "colab_type": "code",
        "outputId": "c0a395b4-4182-4e50-d944-11363bac0840",
        "colab": {
          "base_uri": "https://localhost:8080/",
          "height": 119
        }
      },
      "source": [
        "!ls -al /opt"
      ],
      "execution_count": 0,
      "outputs": [
        {
          "output_type": "stream",
          "text": [
            "total 20\n",
            "drwxr-xr-x 1 root root 4096 Apr  2 02:18 .\n",
            "drwxr-xr-x 1 root root 4096 Apr  2 02:18 ..\n",
            "drwxr-xr-x 2 root root 4096 Mar 31 17:45 bin\n",
            "drwxr-xr-x 1 root root 4096 Mar 18 16:19 google\n",
            "drwxr-xr-x 4 root root 4096 Mar 18 16:17 nvidia\n"
          ],
          "name": "stdout"
        }
      ]
    },
    {
      "cell_type": "markdown",
      "metadata": {
        "id": "IXSuTNERaw6K",
        "colab_type": "text"
      },
      "source": [
        "After the model is trained, you can copy the checkpoint folder to your own Google Drive.\n",
        "\n",
        "If you want to download it to your personal computer, it's strongly recommended you copy it there first, then download from Google Drive. The checkpoint folder is copied as a `.rar` compressed file; you can download it and uncompress it locally."
      ]
    },
    {
      "cell_type": "code",
      "metadata": {
        "id": "VHdTL8NDbAh3",
        "colab_type": "code",
        "colab": {}
      },
      "source": [
        "gpt2.copy_checkpoint_to_gdrive(run_name='run9')"
      ],
      "execution_count": 0,
      "outputs": []
    },
    {
      "cell_type": "markdown",
      "metadata": {
        "id": "qQJgV_b4bmzd",
        "colab_type": "text"
      },
      "source": [
        "You're done! Feel free to go to the **Generate Text From The Trained Model** section to generate text based on your retrained model."
      ]
    },
    {
      "cell_type": "markdown",
      "metadata": {
        "id": "pel-uBULXO2L",
        "colab_type": "text"
      },
      "source": [
        "## Load a Trained Model Checkpoint\n",
        "\n",
        "Running the next cell will copy the `.rar` checkpoint file from your Google Drive into the Colaboratory VM."
      ]
    },
    {
      "cell_type": "code",
      "metadata": {
        "id": "DCcx5u7sbPTD",
        "colab_type": "code",
        "colab": {}
      },
      "source": [
        "gpt2.copy_checkpoint_from_gdrive(run_name='run9')"
      ],
      "execution_count": 0,
      "outputs": []
    },
    {
      "cell_type": "markdown",
      "metadata": {
        "id": "RTa6zf3e_9gV",
        "colab_type": "text"
      },
      "source": [
        "The next cell will allow you to load the retrained model checkpoint + metadata necessary to generate text.\n",
        "\n",
        "**IMPORTANT NOTE:** If you want to rerun this cell, **restart the VM first** (Runtime -> Restart Runtime). You will need to rerun imports but not recopy files."
      ]
    },
    {
      "cell_type": "code",
      "metadata": {
        "id": "-fxL77nvAMAX",
        "colab_type": "code",
        "outputId": "7b7e7fea-d2e0-4528-b0bf-e085d81bf701",
        "colab": {
          "base_uri": "https://localhost:8080/",
          "height": 326
        }
      },
      "source": [
        "# import gpt_2_simple as gpt2\n",
        "# from datetime import datetime\n",
        "# from google.colab import files\n",
        "tf.reset_default_graph()\n",
        "sess = gpt2.start_tf_sess()\n",
        "gpt2.load_gpt2(sess, run_name='run9')"
      ],
      "execution_count": 0,
      "outputs": [
        {
          "output_type": "stream",
          "text": [
            "WARNING: Logging before flag parsing goes to stderr.\n",
            "W0725 21:51:40.111256 140168434247552 deprecation_wrapper.py:119] From /usr/local/lib/python3.6/dist-packages/gpt_2_simple/src/memory_saving_gradients.py:13: The name tf.GraphKeys is deprecated. Please use tf.compat.v1.GraphKeys instead.\n",
            "\n",
            "W0725 21:51:40.118145 140168434247552 deprecation_wrapper.py:119] From /usr/local/lib/python3.6/dist-packages/gpt_2_simple/gpt_2.py:90: The name tf.ConfigProto is deprecated. Please use tf.compat.v1.ConfigProto instead.\n",
            "\n",
            "W0725 21:51:40.119478 140168434247552 deprecation_wrapper.py:119] From /usr/local/lib/python3.6/dist-packages/gpt_2_simple/gpt_2.py:100: The name tf.Session is deprecated. Please use tf.compat.v1.Session instead.\n",
            "\n",
            "W0725 21:51:40.350766 140168434247552 deprecation_wrapper.py:119] From /usr/local/lib/python3.6/dist-packages/gpt_2_simple/gpt_2.py:340: The name tf.placeholder is deprecated. Please use tf.compat.v1.placeholder instead.\n",
            "\n",
            "W0725 21:51:40.354785 140168434247552 deprecation_wrapper.py:119] From /usr/local/lib/python3.6/dist-packages/gpt_2_simple/src/model.py:148: The name tf.variable_scope is deprecated. Please use tf.compat.v1.variable_scope instead.\n",
            "\n",
            "W0725 21:51:46.726134 140168434247552 deprecation_wrapper.py:119] From /usr/local/lib/python3.6/dist-packages/gpt_2_simple/gpt_2.py:344: The name tf.train.Saver is deprecated. Please use tf.compat.v1.train.Saver instead.\n",
            "\n",
            "W0725 21:51:48.254289 140168434247552 deprecation.py:323] From /usr/local/lib/python3.6/dist-packages/tensorflow/python/training/saver.py:1276: checkpoint_exists (from tensorflow.python.training.checkpoint_management) is deprecated and will be removed in a future version.\n",
            "Instructions for updating:\n",
            "Use standard file APIs to check for files with this prefix.\n"
          ],
          "name": "stderr"
        },
        {
          "output_type": "stream",
          "text": [
            "Loading checkpoint checkpoint/run9/model-19500\n"
          ],
          "name": "stdout"
        }
      ]
    },
    {
      "cell_type": "markdown",
      "metadata": {
        "id": "ClJwpF_ACONp",
        "colab_type": "text"
      },
      "source": [
        "## Generate Text From The Trained Model\n",
        "\n",
        "After you've trained the model or loaded a retrained model from checkpoint, you can now generate text. `generate` generates a single text from the loaded model."
      ]
    },
    {
      "cell_type": "code",
      "metadata": {
        "id": "4RNY6RBI9LmL",
        "colab_type": "code",
        "colab": {}
      },
      "source": [
        "gpt2.generate(sess, length=1023, temperature=0.8, run_name='run1')"
      ],
      "execution_count": 0,
      "outputs": []
    },
    {
      "cell_type": "markdown",
      "metadata": {
        "id": "oF4-PqF0Fl7R",
        "colab_type": "text"
      },
      "source": [
        "If you're creating an API based on your model and need to pass the generated text elsewhere, you can do `text = gpt2.generate(sess, return_as_list=True)[0]`\n",
        "\n",
        "You can also pass in a `prefix` to the generate function to force the text to start with a given character sequence and generate text from there (good if you add an indicator when the text starts).\n",
        "\n",
        "You can also generate multiple texts at a time by specifing `nsamples`. Unique to GPT-2, you can pass a `batch_size` to generate multiple samples in parallel, giving a massive speedup (in Colaboratory, set a maximum of 20 for `batch_size`).\n",
        "\n",
        "Other optional-but-helpful parameters for `gpt2.generate` and friends:\n",
        "\n",
        "*  **`length`**: Number of tokens to generate (default 1023, the maximum)\n",
        "* **`temperature`**: The higher the temperature, the crazier the text (default 0.7, recommended to keep between 0.7 and 1.0)\n",
        "* **`top_k`**: Limits the generated guesses to the top *k* guesses (default 0 which disables the behavior; if the generated output is super crazy, you may want to set `top_k=40`)\n",
        "* **`top_p`**: Nucleus sampling: limits the generated guesses to a cumulative probability. (gets good results on a dataset with `top_p=0.9`)\n",
        "* **`truncate`**: Truncates the input text until a given sequence, excluding that sequence (e.g. if `truncate='<|endoftext|>'`, the returned text will include everything before the first `<|endoftext|>`). It may be useful to combine this with a smaller `length` if the input texts are short.\n",
        "*  **`include_prefix`**: If using `truncate` and `include_prefix=False`, the specified `prefix` will not be included in the returned text."
      ]
    },
    {
      "cell_type": "code",
      "metadata": {
        "id": "8DKMc0fiej4N",
        "colab_type": "code",
        "outputId": "559b90a2-c8c1-4933-a289-45a4d3b78749",
        "colab": {
          "base_uri": "https://localhost:8080/",
          "height": 782
        }
      },
      "source": [
        "gpt2.generate(sess,\n",
        "              length=5,\n",
        "              top_p=.9,\n",
        "              temperature=.8,\n",
        "              seed=99,\n",
        "              prefix=\"\"\"import os\n",
        "import sys\n",
        "# Count lines of codes in the given directory, separated by file extension.\n",
        "def main(directory):\n",
        "  line_count = {}\n",
        "  for filename in os.listdir(directory):\n",
        "    _, ext = os.path.splitext(filename)\n",
        "    if ext not\"\"\",\n",
        "              nsamples=5,\n",
        "              batch_size=5,\n",
        "              run_name='run9'\n",
        "              )"
      ],
      "execution_count": 0,
      "outputs": [
        {
          "output_type": "stream",
          "text": [
            "import os\n",
            "import sys\n",
            "# Count lines of codes in the given directory, separated by file extension.\n",
            "def main(directory):\n",
            "  line_count = {}\n",
            "  for filename in os.listdir(directory):\n",
            "    _, ext = os.path.splitext(filename)\n",
            "    if ext not in os.path:\n",
            "====================\n",
            "import os\n",
            "import sys\n",
            "# Count lines of codes in the given directory, separated by file extension.\n",
            "def main(directory):\n",
            "  line_count = {}\n",
            "  for filename in os.listdir(directory):\n",
            "    _, ext = os.path.splitext(filename)\n",
            "    if ext not in sys.path:\n",
            "====================\n",
            "import os\n",
            "import sys\n",
            "# Count lines of codes in the given directory, separated by file extension.\n",
            "def main(directory):\n",
            "  line_count = {}\n",
            "  for filename in os.listdir(directory):\n",
            "    _, ext = os.path.splitext(filename)\n",
            "    if ext not in os.path.\n",
            "====================\n",
            "import os\n",
            "import sys\n",
            "# Count lines of codes in the given directory, separated by file extension.\n",
            "def main(directory):\n",
            "  line_count = {}\n",
            "  for filename in os.listdir(directory):\n",
            "    _, ext = os.path.splitext(filename)\n",
            "    if ext not in sys.extpath\n",
            "====================\n",
            "import os\n",
            "import sys\n",
            "# Count lines of codes in the given directory, separated by file extension.\n",
            "def main(directory):\n",
            "  line_count = {}\n",
            "  for filename in os.listdir(directory):\n",
            "    _, ext = os.path.splitext(filename)\n",
            "    if ext not in _ext.get\n",
            "====================\n"
          ],
          "name": "stdout"
        }
      ]
    },
    {
      "cell_type": "markdown",
      "metadata": {
        "id": "zjjEN2Tafhl2",
        "colab_type": "text"
      },
      "source": [
        "For bulk generation, you can generate a large amount of text to a file and sort out the samples locally on your computer. The next cell will generate a generated text file with a unique timestamp and then download it.\n",
        "\n",
        "You can rerun the cell as many times as you want for even more generated texts!"
      ]
    },
    {
      "cell_type": "code",
      "metadata": {
        "id": "Fa6p6arifSL0",
        "colab_type": "code",
        "colab": {}
      },
      "source": [
        "gen_file = 'gpt2_gentext_{:%Y%m%d_%H%M%S}.txt'.format(datetime.utcnow())\n",
        "\n",
        "gpt2.generate_to_file(sess,\n",
        "                      destination_path=gen_file,\n",
        "                      length=500,\n",
        "                      temperature=0.7,\n",
        "                      nsamples=100,\n",
        "                      batch_size=20\n",
        "                      )\n",
        "\n",
        "files.download(gen_file)"
      ],
      "execution_count": 0,
      "outputs": []
    },
    {
      "cell_type": "markdown",
      "metadata": {
        "id": "ig-KVgkCDCKD",
        "colab_type": "text"
      },
      "source": [
        "# Etcetera\n",
        "\n",
        "If the notebook has errors (e.g. GPU Sync Fail or out-of-memory/OOM), force-kill the Colaboratory virtual machine and restart it with the command below:"
      ]
    },
    {
      "cell_type": "code",
      "metadata": {
        "id": "rIHiVP53FnsX",
        "colab_type": "code",
        "colab": {}
      },
      "source": [
        "!kill -9 -1"
      ],
      "execution_count": 0,
      "outputs": []
    },
    {
      "cell_type": "markdown",
      "metadata": {
        "id": "wmTXWNUygS5E",
        "colab_type": "text"
      },
      "source": [
        "# LICENSE\n",
        "\n",
        "MIT License\n",
        "\n",
        "Copyright (c) 2019 Denis Andrei de Araujo\n",
        "\n",
        "Permission is hereby granted, free of charge, to any person obtaining a copy\n",
        "of this software and associated documentation files (the \"Software\"), to deal\n",
        "in the Software without restriction, including without limitation the rights\n",
        "to use, copy, modify, merge, publish, distribute, sublicense, and/or sell\n",
        "copies of the Software, and to permit persons to whom the Software is\n",
        "furnished to do so, subject to the following conditions:\n",
        "\n",
        "The above copyright notice and this permission notice shall be included in all\n",
        "copies or substantial portions of the Software.\n",
        "\n",
        "THE SOFTWARE IS PROVIDED \"AS IS\", WITHOUT WARRANTY OF ANY KIND, EXPRESS OR\n",
        "IMPLIED, INCLUDING BUT NOT LIMITED TO THE WARRANTIES OF MERCHANTABILITY,\n",
        "FITNESS FOR A PARTICULAR PURPOSE AND NONINFRINGEMENT. IN NO EVENT SHALL THE\n",
        "AUTHORS OR COPYRIGHT HOLDERS BE LIABLE FOR ANY CLAIM, DAMAGES OR OTHER\n",
        "LIABILITY, WHETHER IN AN ACTION OF CONTRACT, TORT OR OTHERWISE, ARISING FROM,\n",
        "OUT OF OR IN CONNECTION WITH THE SOFTWARE OR THE USE OR OTHER DEALINGS IN THE\n",
        "SOFTWARE."
      ]
    }
  ]
}